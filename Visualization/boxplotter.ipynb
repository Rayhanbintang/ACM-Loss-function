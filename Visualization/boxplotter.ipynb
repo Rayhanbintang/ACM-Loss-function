{
 "cells": [
  {
   "cell_type": "code",
   "execution_count": 1,
   "metadata": {},
   "outputs": [],
   "source": [
    "import pandas as pd\n",
    "import os\n",
    "import matplotlib.pyplot as plt\n",
    "import seaborn as sns\n",
    "sns.set()"
   ]
  },
  {
   "cell_type": "code",
   "execution_count": 2,
   "metadata": {},
   "outputs": [
    {
     "data": {
      "text/plain": [
       "Index(['dice_AC_L1', 'hd_AC_L1', 'assd_AC_L1', 'vol_AC_L1', 'vol_err_AC_L1',\n",
       "       'dice_AC_L5', 'hd_AC_L5', 'assd_AC_L5', 'vol_AC_L5', 'vol_err_AC_L5',\n",
       "       'dice_AC_L10', 'hd_AC_L10', 'assd_AC_L10', 'vol_AC_L10',\n",
       "       'vol_err_AC_L10', 'dice_DICE', 'hd_DICE', 'assd_DICE', 'vol_DICE',\n",
       "       'vol_err_DICE', 'dice_DOF', 'hd_DOF', 'assd_DOF', 'vol_DOF',\n",
       "       'vol_err_DOF', 'dice_WCE', 'hd_WCE', 'assd_WCE', 'vol_WCE',\n",
       "       'vol_err_WCE', 'dice_CE', 'hd_CE', 'assd_CE', 'vol_CE', 'vol_err_CE',\n",
       "       'phase', 'struc', 'filename'],\n",
       "      dtype='object')"
      ]
     },
     "execution_count": 2,
     "metadata": {},
     "output_type": "execute_result"
    }
   ],
   "source": [
    "df = pd.read_excel('master_data.xlsx')\n",
    "df.columns"
   ]
  },
  {
   "cell_type": "code",
   "execution_count": 24,
   "metadata": {},
   "outputs": [
    {
     "data": {
      "text/html": [
       "<div>\n",
       "<style scoped>\n",
       "    .dataframe tbody tr th:only-of-type {\n",
       "        vertical-align: middle;\n",
       "    }\n",
       "\n",
       "    .dataframe tbody tr th {\n",
       "        vertical-align: top;\n",
       "    }\n",
       "\n",
       "    .dataframe thead th {\n",
       "        text-align: right;\n",
       "    }\n",
       "</style>\n",
       "<table border=\"1\" class=\"dataframe\">\n",
       "  <thead>\n",
       "    <tr style=\"text-align: right;\">\n",
       "      <th></th>\n",
       "      <th>dice_AC_L1</th>\n",
       "      <th>dice_AC_L5</th>\n",
       "      <th>dice_AC_L10</th>\n",
       "      <th>dice_DICE</th>\n",
       "      <th>dice_DOF</th>\n",
       "      <th>dice_WCE</th>\n",
       "      <th>dice_CE</th>\n",
       "      <th>phase</th>\n",
       "    </tr>\n",
       "  </thead>\n",
       "  <tbody>\n",
       "    <tr>\n",
       "      <th>0</th>\n",
       "      <td>0.962101</td>\n",
       "      <td>0.972590</td>\n",
       "      <td>0.971119</td>\n",
       "      <td>0.972879</td>\n",
       "      <td>0.968458</td>\n",
       "      <td>0.972470</td>\n",
       "      <td>0.972051</td>\n",
       "      <td>ED</td>\n",
       "    </tr>\n",
       "    <tr>\n",
       "      <th>1</th>\n",
       "      <td>0.880246</td>\n",
       "      <td>0.918689</td>\n",
       "      <td>0.881196</td>\n",
       "      <td>0.836482</td>\n",
       "      <td>0.874131</td>\n",
       "      <td>0.879982</td>\n",
       "      <td>0.900398</td>\n",
       "      <td>ED</td>\n",
       "    </tr>\n",
       "    <tr>\n",
       "      <th>2</th>\n",
       "      <td>0.858248</td>\n",
       "      <td>0.875432</td>\n",
       "      <td>0.890098</td>\n",
       "      <td>0.863177</td>\n",
       "      <td>0.888856</td>\n",
       "      <td>0.880170</td>\n",
       "      <td>0.873611</td>\n",
       "      <td>ED</td>\n",
       "    </tr>\n",
       "    <tr>\n",
       "      <th>3</th>\n",
       "      <td>0.958629</td>\n",
       "      <td>0.961646</td>\n",
       "      <td>0.965920</td>\n",
       "      <td>0.961684</td>\n",
       "      <td>0.957315</td>\n",
       "      <td>0.963442</td>\n",
       "      <td>0.959424</td>\n",
       "      <td>ES</td>\n",
       "    </tr>\n",
       "    <tr>\n",
       "      <th>4</th>\n",
       "      <td>0.780564</td>\n",
       "      <td>0.780244</td>\n",
       "      <td>0.761928</td>\n",
       "      <td>0.666733</td>\n",
       "      <td>0.700601</td>\n",
       "      <td>0.746151</td>\n",
       "      <td>0.791234</td>\n",
       "      <td>ES</td>\n",
       "    </tr>\n",
       "    <tr>\n",
       "      <th>...</th>\n",
       "      <td>...</td>\n",
       "      <td>...</td>\n",
       "      <td>...</td>\n",
       "      <td>...</td>\n",
       "      <td>...</td>\n",
       "      <td>...</td>\n",
       "      <td>...</td>\n",
       "      <td>...</td>\n",
       "    </tr>\n",
       "    <tr>\n",
       "      <th>115</th>\n",
       "      <td>0.879198</td>\n",
       "      <td>0.886124</td>\n",
       "      <td>0.907017</td>\n",
       "      <td>0.942158</td>\n",
       "      <td>0.928900</td>\n",
       "      <td>0.937901</td>\n",
       "      <td>0.928547</td>\n",
       "      <td>ED</td>\n",
       "    </tr>\n",
       "    <tr>\n",
       "      <th>116</th>\n",
       "      <td>0.882041</td>\n",
       "      <td>0.890713</td>\n",
       "      <td>0.888109</td>\n",
       "      <td>0.889743</td>\n",
       "      <td>0.884327</td>\n",
       "      <td>0.895991</td>\n",
       "      <td>0.896763</td>\n",
       "      <td>ED</td>\n",
       "    </tr>\n",
       "    <tr>\n",
       "      <th>117</th>\n",
       "      <td>0.915100</td>\n",
       "      <td>0.925236</td>\n",
       "      <td>0.940734</td>\n",
       "      <td>0.930072</td>\n",
       "      <td>0.913600</td>\n",
       "      <td>0.944557</td>\n",
       "      <td>0.934069</td>\n",
       "      <td>ES</td>\n",
       "    </tr>\n",
       "    <tr>\n",
       "      <th>118</th>\n",
       "      <td>0.759361</td>\n",
       "      <td>0.794652</td>\n",
       "      <td>0.825231</td>\n",
       "      <td>0.856663</td>\n",
       "      <td>0.822691</td>\n",
       "      <td>0.857034</td>\n",
       "      <td>0.867354</td>\n",
       "      <td>ES</td>\n",
       "    </tr>\n",
       "    <tr>\n",
       "      <th>119</th>\n",
       "      <td>0.864252</td>\n",
       "      <td>0.900000</td>\n",
       "      <td>0.891171</td>\n",
       "      <td>0.876072</td>\n",
       "      <td>0.898512</td>\n",
       "      <td>0.922432</td>\n",
       "      <td>0.884628</td>\n",
       "      <td>ES</td>\n",
       "    </tr>\n",
       "  </tbody>\n",
       "</table>\n",
       "<p>120 rows × 8 columns</p>\n",
       "</div>"
      ],
      "text/plain": [
       "     dice_AC_L1  dice_AC_L5  dice_AC_L10  dice_DICE  dice_DOF  dice_WCE  \\\n",
       "0      0.962101    0.972590     0.971119   0.972879  0.968458  0.972470   \n",
       "1      0.880246    0.918689     0.881196   0.836482  0.874131  0.879982   \n",
       "2      0.858248    0.875432     0.890098   0.863177  0.888856  0.880170   \n",
       "3      0.958629    0.961646     0.965920   0.961684  0.957315  0.963442   \n",
       "4      0.780564    0.780244     0.761928   0.666733  0.700601  0.746151   \n",
       "..          ...         ...          ...        ...       ...       ...   \n",
       "115    0.879198    0.886124     0.907017   0.942158  0.928900  0.937901   \n",
       "116    0.882041    0.890713     0.888109   0.889743  0.884327  0.895991   \n",
       "117    0.915100    0.925236     0.940734   0.930072  0.913600  0.944557   \n",
       "118    0.759361    0.794652     0.825231   0.856663  0.822691  0.857034   \n",
       "119    0.864252    0.900000     0.891171   0.876072  0.898512  0.922432   \n",
       "\n",
       "      dice_CE phase  \n",
       "0    0.972051    ED  \n",
       "1    0.900398    ED  \n",
       "2    0.873611    ED  \n",
       "3    0.959424    ES  \n",
       "4    0.791234    ES  \n",
       "..        ...   ...  \n",
       "115  0.928547    ED  \n",
       "116  0.896763    ED  \n",
       "117  0.934069    ES  \n",
       "118  0.867354    ES  \n",
       "119  0.884628    ES  \n",
       "\n",
       "[120 rows x 8 columns]"
      ]
     },
     "execution_count": 24,
     "metadata": {},
     "output_type": "execute_result"
    }
   ],
   "source": [
    "df_dice = df.loc[:, ['dice_AC_L1','dice_AC_L5','dice_AC_L10','dice_DICE','dice_DOF','dice_WCE','dice_CE',\"phase\"]]\n",
    "# pd.melt(df_dice)\n",
    "df_dice"
   ]
  },
  {
   "cell_type": "code",
   "execution_count": 50,
   "metadata": {},
   "outputs": [
    {
     "data": {
      "text/plain": [
       "Text(0.5, 1.0, 'Pengukuran HD secara 3D')"
      ]
     },
     "execution_count": 50,
     "metadata": {},
     "output_type": "execute_result"
    },
    {
     "data": {
      "image/png": "[encoded data removed]",
      "text/plain": [
       "<Figure size 1152x648 with 1 Axes>"
      ]
     },
     "metadata": {},
     "output_type": "display_data"
    }
   ],
   "source": [
    "df_dice = df.loc[:, ['hd_AC_L1','hd_AC_L5','hd_AC_L10','hd_DICE','hd_DOF','hd_WCE','hd_CE']]\n",
    "\n",
    "fontsize=26\n",
    "plt.figure(figsize=(16,9))\n",
    "sns.boxplot(x=\"variable\",y=\"value\", data=pd.melt(df_dice))\n",
    "plt.xlabel(\"Loss Function\", fontsize=fontsize)\n",
    "plt.xticks(fontsize=15)\n",
    "# plt.legend(fontsize=fontsize)\n",
    "plt.ylabel(\"HD Score\", fontsize=fontsize)\n",
    "plt.title(\"Pengukuran HD secara 3D\", fontsize=fontsize)"
   ]
  },
  {
   "cell_type": "code",
   "execution_count": 4,
   "metadata": {},
   "outputs": [
    {
     "data": {
      "text/html": [
       "<div>\n",
       "<style scoped>\n",
       "    .dataframe tbody tr th:only-of-type {\n",
       "        vertical-align: middle;\n",
       "    }\n",
       "\n",
       "    .dataframe tbody tr th {\n",
       "        vertical-align: top;\n",
       "    }\n",
       "\n",
       "    .dataframe thead th {\n",
       "        text-align: right;\n",
       "    }\n",
       "</style>\n",
       "<table border=\"1\" class=\"dataframe\">\n",
       "  <thead>\n",
       "    <tr style=\"text-align: right;\">\n",
       "      <th></th>\n",
       "      <th>dice_AC_L10</th>\n",
       "      <th>dice_DICE</th>\n",
       "      <th>filename</th>\n",
       "      <th>Score_diff</th>\n",
       "    </tr>\n",
       "  </thead>\n",
       "  <tbody>\n",
       "    <tr>\n",
       "      <th>0</th>\n",
       "      <td>0.971119</td>\n",
       "      <td>0.972879</td>\n",
       "      <td>patient005_ED.nii.gz</td>\n",
       "      <td>-0.001760</td>\n",
       "    </tr>\n",
       "    <tr>\n",
       "      <th>1</th>\n",
       "      <td>0.881196</td>\n",
       "      <td>0.836482</td>\n",
       "      <td>patient005_ED.nii.gz</td>\n",
       "      <td>0.044714</td>\n",
       "    </tr>\n",
       "    <tr>\n",
       "      <th>2</th>\n",
       "      <td>0.890098</td>\n",
       "      <td>0.863177</td>\n",
       "      <td>patient005_ED.nii.gz</td>\n",
       "      <td>0.026921</td>\n",
       "    </tr>\n",
       "    <tr>\n",
       "      <th>3</th>\n",
       "      <td>0.965920</td>\n",
       "      <td>0.961684</td>\n",
       "      <td>patient005_ES.nii.gz</td>\n",
       "      <td>0.004236</td>\n",
       "    </tr>\n",
       "    <tr>\n",
       "      <th>4</th>\n",
       "      <td>0.761928</td>\n",
       "      <td>0.666733</td>\n",
       "      <td>patient005_ES.nii.gz</td>\n",
       "      <td>0.095195</td>\n",
       "    </tr>\n",
       "    <tr>\n",
       "      <th>...</th>\n",
       "      <td>...</td>\n",
       "      <td>...</td>\n",
       "      <td>...</td>\n",
       "      <td>...</td>\n",
       "    </tr>\n",
       "    <tr>\n",
       "      <th>115</th>\n",
       "      <td>0.907017</td>\n",
       "      <td>0.942158</td>\n",
       "      <td>patient100_ED.nii.gz</td>\n",
       "      <td>-0.035141</td>\n",
       "    </tr>\n",
       "    <tr>\n",
       "      <th>116</th>\n",
       "      <td>0.888109</td>\n",
       "      <td>0.889743</td>\n",
       "      <td>patient100_ED.nii.gz</td>\n",
       "      <td>-0.001634</td>\n",
       "    </tr>\n",
       "    <tr>\n",
       "      <th>117</th>\n",
       "      <td>0.940734</td>\n",
       "      <td>0.930072</td>\n",
       "      <td>patient100_ES.nii.gz</td>\n",
       "      <td>0.010662</td>\n",
       "    </tr>\n",
       "    <tr>\n",
       "      <th>118</th>\n",
       "      <td>0.825231</td>\n",
       "      <td>0.856663</td>\n",
       "      <td>patient100_ES.nii.gz</td>\n",
       "      <td>-0.031432</td>\n",
       "    </tr>\n",
       "    <tr>\n",
       "      <th>119</th>\n",
       "      <td>0.891171</td>\n",
       "      <td>0.876072</td>\n",
       "      <td>patient100_ES.nii.gz</td>\n",
       "      <td>0.015099</td>\n",
       "    </tr>\n",
       "  </tbody>\n",
       "</table>\n",
       "<p>120 rows × 4 columns</p>\n",
       "</div>"
      ],
      "text/plain": [
       "     dice_AC_L10  dice_DICE              filename  Score_diff\n",
       "0       0.971119   0.972879  patient005_ED.nii.gz   -0.001760\n",
       "1       0.881196   0.836482  patient005_ED.nii.gz    0.044714\n",
       "2       0.890098   0.863177  patient005_ED.nii.gz    0.026921\n",
       "3       0.965920   0.961684  patient005_ES.nii.gz    0.004236\n",
       "4       0.761928   0.666733  patient005_ES.nii.gz    0.095195\n",
       "..           ...        ...                   ...         ...\n",
       "115     0.907017   0.942158  patient100_ED.nii.gz   -0.035141\n",
       "116     0.888109   0.889743  patient100_ED.nii.gz   -0.001634\n",
       "117     0.940734   0.930072  patient100_ES.nii.gz    0.010662\n",
       "118     0.825231   0.856663  patient100_ES.nii.gz   -0.031432\n",
       "119     0.891171   0.876072  patient100_ES.nii.gz    0.015099\n",
       "\n",
       "[120 rows x 4 columns]"
      ]
     },
     "execution_count": 4,
     "metadata": {},
     "output_type": "execute_result"
    }
   ],
   "source": [
    "df_delta_ac_dice= df.loc[:, ['dice_AC_L10','dice_DICE','filename']]\n",
    "df_delta_ac_dice['Score_diff'] = df_delta_ac_dice['dice_AC_L10'] - df_delta_ac_dice['dice_DICE'] \n",
    "df_delta_ac_dice"
   ]
  },
  {
   "cell_type": "code",
   "execution_count": 5,
   "metadata": {},
   "outputs": [
    {
     "data": {
      "text/plain": [
       "dice_AC_L10                0.929351\n",
       "dice_DICE                  0.716035\n",
       "filename       patient065_ES.nii.gz\n",
       "Score_diff                 0.213315\n",
       "Name: 76, dtype: object"
      ]
     },
     "execution_count": 5,
     "metadata": {},
     "output_type": "execute_result"
    }
   ],
   "source": [
    "df_delta_ac_dice.loc[df_delta_ac_dice['Score_diff'].idxmax()]"
   ]
  },
  {
   "cell_type": "code",
   "execution_count": 6,
   "metadata": {},
   "outputs": [
    {
     "data": {
      "text/html": [
       "<div>\n",
       "<style scoped>\n",
       "    .dataframe tbody tr th:only-of-type {\n",
       "        vertical-align: middle;\n",
       "    }\n",
       "\n",
       "    .dataframe tbody tr th {\n",
       "        vertical-align: top;\n",
       "    }\n",
       "\n",
       "    .dataframe thead th {\n",
       "        text-align: right;\n",
       "    }\n",
       "</style>\n",
       "<table border=\"1\" class=\"dataframe\">\n",
       "  <thead>\n",
       "    <tr style=\"text-align: right;\">\n",
       "      <th></th>\n",
       "      <th>dice_AC_L10</th>\n",
       "      <th>dice_DICE</th>\n",
       "      <th>filename</th>\n",
       "      <th>Score_diff</th>\n",
       "    </tr>\n",
       "  </thead>\n",
       "  <tbody>\n",
       "    <tr>\n",
       "      <th>76</th>\n",
       "      <td>0.929351</td>\n",
       "      <td>0.716035</td>\n",
       "      <td>patient065_ES.nii.gz</td>\n",
       "      <td>0.213315</td>\n",
       "    </tr>\n",
       "  </tbody>\n",
       "</table>\n",
       "</div>"
      ],
      "text/plain": [
       "    dice_AC_L10  dice_DICE              filename  Score_diff\n",
       "76     0.929351   0.716035  patient065_ES.nii.gz    0.213315"
      ]
     },
     "execution_count": 6,
     "metadata": {},
     "output_type": "execute_result"
    }
   ],
   "source": [
    "df_delta_ac_dice[df_delta_ac_dice['Score_diff']==df_delta_ac_dice['Score_diff'].max()]"
   ]
  },
  {
   "cell_type": "code",
   "execution_count": 7,
   "metadata": {},
   "outputs": [
    {
     "name": "stdout",
     "output_type": "stream",
     "text": [
      "dice_AC_L10\n",
      "0.9468297375 - 0.8695562967499999 = 0.07727344075000009\n",
      "0.11591016112500013\n",
      "dice_DICE\n",
      "0.946192640687704 - 0.850383666630471 = 0.09580897405723299\n",
      "0.14371346108584948\n",
      "dice_DOF\n",
      "0.9487367761052538 - 0.854133094855254 = 0.09460368124999974\n",
      "0.1419055218749996\n",
      "dice_WCE\n",
      "0.94326397 - 0.871148351 = 0.07211561899999996\n",
      "0.10817342849999995\n",
      "dice_CE\n",
      "0.9473772163711642 - 0.8653829780984401 = 0.08199423827272412\n",
      "0.12299135740908618\n"
     ]
    }
   ],
   "source": [
    "asd = '75%'\n",
    "var = 'dice_AC_L1'\n",
    "for var in df_dice.columns:\n",
    "    q1 = df[var].quantile(q=0.25)\n",
    "    q3 = df[var].quantile(q=0.75)\n",
    "    whisker_range = 1.5*(q3-q1)\n",
    "    print(var)\n",
    "    print(q3, '-', q1,'=', q3-q1)\n",
    "    print(whisker_range)\n",
    "#     print(q1 - whisker_range)\n",
    "#     print(q3 + whisker_range)"
   ]
  },
  {
   "cell_type": "code",
   "execution_count": 29,
   "metadata": {},
   "outputs": [
    {
     "data": {
      "text/html": [
       "<div>\n",
       "<style scoped>\n",
       "    .dataframe tbody tr th:only-of-type {\n",
       "        vertical-align: middle;\n",
       "    }\n",
       "\n",
       "    .dataframe tbody tr th {\n",
       "        vertical-align: top;\n",
       "    }\n",
       "\n",
       "    .dataframe thead th {\n",
       "        text-align: right;\n",
       "    }\n",
       "</style>\n",
       "<table border=\"1\" class=\"dataframe\">\n",
       "  <thead>\n",
       "    <tr style=\"text-align: right;\">\n",
       "      <th></th>\n",
       "      <th>variable</th>\n",
       "      <th>value</th>\n",
       "    </tr>\n",
       "  </thead>\n",
       "  <tbody>\n",
       "    <tr>\n",
       "      <th>0</th>\n",
       "      <td>phase</td>\n",
       "      <td>ED</td>\n",
       "    </tr>\n",
       "    <tr>\n",
       "      <th>1</th>\n",
       "      <td>phase</td>\n",
       "      <td>ED</td>\n",
       "    </tr>\n",
       "    <tr>\n",
       "      <th>2</th>\n",
       "      <td>phase</td>\n",
       "      <td>ED</td>\n",
       "    </tr>\n",
       "    <tr>\n",
       "      <th>3</th>\n",
       "      <td>phase</td>\n",
       "      <td>ES</td>\n",
       "    </tr>\n",
       "    <tr>\n",
       "      <th>4</th>\n",
       "      <td>phase</td>\n",
       "      <td>ES</td>\n",
       "    </tr>\n",
       "    <tr>\n",
       "      <th>...</th>\n",
       "      <td>...</td>\n",
       "      <td>...</td>\n",
       "    </tr>\n",
       "    <tr>\n",
       "      <th>115</th>\n",
       "      <td>phase</td>\n",
       "      <td>ED</td>\n",
       "    </tr>\n",
       "    <tr>\n",
       "      <th>116</th>\n",
       "      <td>phase</td>\n",
       "      <td>ED</td>\n",
       "    </tr>\n",
       "    <tr>\n",
       "      <th>117</th>\n",
       "      <td>phase</td>\n",
       "      <td>ES</td>\n",
       "    </tr>\n",
       "    <tr>\n",
       "      <th>118</th>\n",
       "      <td>phase</td>\n",
       "      <td>ES</td>\n",
       "    </tr>\n",
       "    <tr>\n",
       "      <th>119</th>\n",
       "      <td>phase</td>\n",
       "      <td>ES</td>\n",
       "    </tr>\n",
       "  </tbody>\n",
       "</table>\n",
       "<p>120 rows × 2 columns</p>\n",
       "</div>"
      ],
      "text/plain": [
       "    variable value\n",
       "0      phase    ED\n",
       "1      phase    ED\n",
       "2      phase    ED\n",
       "3      phase    ES\n",
       "4      phase    ES\n",
       "..       ...   ...\n",
       "115    phase    ED\n",
       "116    phase    ED\n",
       "117    phase    ES\n",
       "118    phase    ES\n",
       "119    phase    ES\n",
       "\n",
       "[120 rows x 2 columns]"
      ]
     },
     "execution_count": 29,
     "metadata": {},
     "output_type": "execute_result"
    }
   ],
   "source": [
    "pd.melt(df_hd, value_vars='phase')"
   ]
  },
  {
   "cell_type": "code",
   "execution_count": null,
   "metadata": {},
   "outputs": [],
   "source": []
  },
  {
   "cell_type": "code",
   "execution_count": 32,
   "metadata": {},
   "outputs": [
    {
     "data": {
      "text/plain": [
       "Text(0, 0.5, 'Hausdorff Distance Score')"
      ]
     },
     "execution_count": 32,
     "metadata": {},
     "output_type": "execute_result"
    },
    {
     "data": {
      "image/png": "[encoded data removed]",
      "text/plain": [
       "<Figure size 1152x648 with 1 Axes>"
      ]
     },
     "metadata": {},
     "output_type": "display_data"
    }
   ],
   "source": [
    "df_hd = df.loc[:, ['hd_AC_L1','hd_AC_L5','hd_AC_L10','hd_DICE','hd_DOF','hd_WCE','hd_CE']]\n",
    "\n",
    "plt.figure(figsize=(16,9))\n",
    "sns.boxplot(x=\"variable\", y=\"value\",data=pd.melt(df_hd))\n",
    "plt.xlabel(\"loss function\")\n",
    "plt.ylabel(\"Hausdorff Distance Score\")"
   ]
  },
  {
   "cell_type": "code",
   "execution_count": 37,
   "metadata": {},
   "outputs": [
    {
     "data": {
      "text/html": [
       "<div>\n",
       "<style scoped>\n",
       "    .dataframe tbody tr th:only-of-type {\n",
       "        vertical-align: middle;\n",
       "    }\n",
       "\n",
       "    .dataframe tbody tr th {\n",
       "        vertical-align: top;\n",
       "    }\n",
       "\n",
       "    .dataframe thead th {\n",
       "        text-align: right;\n",
       "    }\n",
       "</style>\n",
       "<table border=\"1\" class=\"dataframe\">\n",
       "  <thead>\n",
       "    <tr style=\"text-align: right;\">\n",
       "      <th></th>\n",
       "      <th>hd_AC_L1</th>\n",
       "      <th>hd_AC_L5</th>\n",
       "      <th>hd_AC_L10</th>\n",
       "      <th>hd_DICE</th>\n",
       "      <th>hd_DOF</th>\n",
       "      <th>hd_WCE</th>\n",
       "      <th>hd_CE</th>\n",
       "      <th>phase</th>\n",
       "    </tr>\n",
       "  </thead>\n",
       "  <tbody>\n",
       "    <tr>\n",
       "      <th>0</th>\n",
       "      <td>5.798117</td>\n",
       "      <td>5.070306</td>\n",
       "      <td>5.070306</td>\n",
       "      <td>5.966213</td>\n",
       "      <td>10.000000</td>\n",
       "      <td>4.446953</td>\n",
       "      <td>4.446953</td>\n",
       "      <td>ED</td>\n",
       "    </tr>\n",
       "    <tr>\n",
       "      <th>1</th>\n",
       "      <td>14.311169</td>\n",
       "      <td>12.015005</td>\n",
       "      <td>12.778155</td>\n",
       "      <td>18.149229</td>\n",
       "      <td>15.210919</td>\n",
       "      <td>19.716001</td>\n",
       "      <td>13.747336</td>\n",
       "      <td>ED</td>\n",
       "    </tr>\n",
       "    <tr>\n",
       "      <th>2</th>\n",
       "      <td>10.387981</td>\n",
       "      <td>10.387981</td>\n",
       "      <td>7.954951</td>\n",
       "      <td>10.195836</td>\n",
       "      <td>10.387981</td>\n",
       "      <td>10.387981</td>\n",
       "      <td>10.387981</td>\n",
       "      <td>ED</td>\n",
       "    </tr>\n",
       "    <tr>\n",
       "      <th>3</th>\n",
       "      <td>5.966213</td>\n",
       "      <td>9.433412</td>\n",
       "      <td>7.954951</td>\n",
       "      <td>10.983164</td>\n",
       "      <td>10.983164</td>\n",
       "      <td>6.288941</td>\n",
       "      <td>10.000000</td>\n",
       "      <td>ES</td>\n",
       "    </tr>\n",
       "    <tr>\n",
       "      <th>4</th>\n",
       "      <td>25.087737</td>\n",
       "      <td>18.149229</td>\n",
       "      <td>17.483251</td>\n",
       "      <td>24.449006</td>\n",
       "      <td>29.067960</td>\n",
       "      <td>26.318734</td>\n",
       "      <td>27.252526</td>\n",
       "      <td>ES</td>\n",
       "    </tr>\n",
       "    <tr>\n",
       "      <th>...</th>\n",
       "      <td>...</td>\n",
       "      <td>...</td>\n",
       "      <td>...</td>\n",
       "      <td>...</td>\n",
       "      <td>...</td>\n",
       "      <td>...</td>\n",
       "      <td>...</td>\n",
       "      <td>...</td>\n",
       "    </tr>\n",
       "    <tr>\n",
       "      <th>115</th>\n",
       "      <td>11.970070</td>\n",
       "      <td>10.670072</td>\n",
       "      <td>11.768784</td>\n",
       "      <td>10.171657</td>\n",
       "      <td>10.086194</td>\n",
       "      <td>11.768784</td>\n",
       "      <td>10.340465</td>\n",
       "      <td>ED</td>\n",
       "    </tr>\n",
       "    <tr>\n",
       "      <th>116</th>\n",
       "      <td>11.970070</td>\n",
       "      <td>5.263160</td>\n",
       "      <td>4.744149</td>\n",
       "      <td>19.505670</td>\n",
       "      <td>13.847710</td>\n",
       "      <td>10.340465</td>\n",
       "      <td>22.397821</td>\n",
       "      <td>ED</td>\n",
       "    </tr>\n",
       "    <tr>\n",
       "      <th>117</th>\n",
       "      <td>10.000000</td>\n",
       "      <td>10.000000</td>\n",
       "      <td>10.000000</td>\n",
       "      <td>2.942196</td>\n",
       "      <td>18.782181</td>\n",
       "      <td>2.942196</td>\n",
       "      <td>3.721616</td>\n",
       "      <td>ES</td>\n",
       "    </tr>\n",
       "    <tr>\n",
       "      <th>118</th>\n",
       "      <td>13.546888</td>\n",
       "      <td>10.670072</td>\n",
       "      <td>11.068286</td>\n",
       "      <td>11.602847</td>\n",
       "      <td>11.300480</td>\n",
       "      <td>10.423844</td>\n",
       "      <td>10.000000</td>\n",
       "      <td>ES</td>\n",
       "    </tr>\n",
       "    <tr>\n",
       "      <th>119</th>\n",
       "      <td>11.970070</td>\n",
       "      <td>10.000000</td>\n",
       "      <td>20.288781</td>\n",
       "      <td>29.774087</td>\n",
       "      <td>29.511261</td>\n",
       "      <td>10.750894</td>\n",
       "      <td>6.578950</td>\n",
       "      <td>ES</td>\n",
       "    </tr>\n",
       "  </tbody>\n",
       "</table>\n",
       "<p>120 rows × 8 columns</p>\n",
       "</div>"
      ],
      "text/plain": [
       "      hd_AC_L1   hd_AC_L5  hd_AC_L10    hd_DICE     hd_DOF     hd_WCE  \\\n",
       "0     5.798117   5.070306   5.070306   5.966213  10.000000   4.446953   \n",
       "1    14.311169  12.015005  12.778155  18.149229  15.210919  19.716001   \n",
       "2    10.387981  10.387981   7.954951  10.195836  10.387981  10.387981   \n",
       "3     5.966213   9.433412   7.954951  10.983164  10.983164   6.288941   \n",
       "4    25.087737  18.149229  17.483251  24.449006  29.067960  26.318734   \n",
       "..         ...        ...        ...        ...        ...        ...   \n",
       "115  11.970070  10.670072  11.768784  10.171657  10.086194  11.768784   \n",
       "116  11.970070   5.263160   4.744149  19.505670  13.847710  10.340465   \n",
       "117  10.000000  10.000000  10.000000   2.942196  18.782181   2.942196   \n",
       "118  13.546888  10.670072  11.068286  11.602847  11.300480  10.423844   \n",
       "119  11.970070  10.000000  20.288781  29.774087  29.511261  10.750894   \n",
       "\n",
       "         hd_CE phase  \n",
       "0     4.446953    ED  \n",
       "1    13.747336    ED  \n",
       "2    10.387981    ED  \n",
       "3    10.000000    ES  \n",
       "4    27.252526    ES  \n",
       "..         ...   ...  \n",
       "115  10.340465    ED  \n",
       "116  22.397821    ED  \n",
       "117   3.721616    ES  \n",
       "118  10.000000    ES  \n",
       "119   6.578950    ES  \n",
       "\n",
       "[120 rows x 8 columns]"
      ]
     },
     "execution_count": 37,
     "metadata": {},
     "output_type": "execute_result"
    }
   ],
   "source": [
    "df_hd = df.loc[:, ['hd_AC_L1','hd_AC_L5','hd_AC_L10','hd_DICE','hd_DOF','hd_WCE','hd_CE','phase']]\n",
    "\n",
    "df_hd"
   ]
  },
  {
   "cell_type": "code",
   "execution_count": 38,
   "metadata": {},
   "outputs": [
    {
     "data": {
      "text/html": [
       "<div>\n",
       "<style scoped>\n",
       "    .dataframe tbody tr th:only-of-type {\n",
       "        vertical-align: middle;\n",
       "    }\n",
       "\n",
       "    .dataframe tbody tr th {\n",
       "        vertical-align: top;\n",
       "    }\n",
       "\n",
       "    .dataframe thead th {\n",
       "        text-align: right;\n",
       "    }\n",
       "</style>\n",
       "<table border=\"1\" class=\"dataframe\">\n",
       "  <thead>\n",
       "    <tr style=\"text-align: right;\">\n",
       "      <th></th>\n",
       "      <th>phase</th>\n",
       "      <th>variable</th>\n",
       "      <th>value</th>\n",
       "    </tr>\n",
       "  </thead>\n",
       "  <tbody>\n",
       "    <tr>\n",
       "      <th>0</th>\n",
       "      <td>ED</td>\n",
       "      <td>hd_AC_L1</td>\n",
       "      <td>5.798117</td>\n",
       "    </tr>\n",
       "    <tr>\n",
       "      <th>1</th>\n",
       "      <td>ED</td>\n",
       "      <td>hd_AC_L1</td>\n",
       "      <td>14.311169</td>\n",
       "    </tr>\n",
       "    <tr>\n",
       "      <th>2</th>\n",
       "      <td>ED</td>\n",
       "      <td>hd_AC_L1</td>\n",
       "      <td>10.387981</td>\n",
       "    </tr>\n",
       "    <tr>\n",
       "      <th>3</th>\n",
       "      <td>ES</td>\n",
       "      <td>hd_AC_L1</td>\n",
       "      <td>5.966213</td>\n",
       "    </tr>\n",
       "    <tr>\n",
       "      <th>4</th>\n",
       "      <td>ES</td>\n",
       "      <td>hd_AC_L1</td>\n",
       "      <td>25.087737</td>\n",
       "    </tr>\n",
       "    <tr>\n",
       "      <th>...</th>\n",
       "      <td>...</td>\n",
       "      <td>...</td>\n",
       "      <td>...</td>\n",
       "    </tr>\n",
       "    <tr>\n",
       "      <th>835</th>\n",
       "      <td>ED</td>\n",
       "      <td>hd_CE</td>\n",
       "      <td>10.340465</td>\n",
       "    </tr>\n",
       "    <tr>\n",
       "      <th>836</th>\n",
       "      <td>ED</td>\n",
       "      <td>hd_CE</td>\n",
       "      <td>22.397821</td>\n",
       "    </tr>\n",
       "    <tr>\n",
       "      <th>837</th>\n",
       "      <td>ES</td>\n",
       "      <td>hd_CE</td>\n",
       "      <td>3.721616</td>\n",
       "    </tr>\n",
       "    <tr>\n",
       "      <th>838</th>\n",
       "      <td>ES</td>\n",
       "      <td>hd_CE</td>\n",
       "      <td>10.000000</td>\n",
       "    </tr>\n",
       "    <tr>\n",
       "      <th>839</th>\n",
       "      <td>ES</td>\n",
       "      <td>hd_CE</td>\n",
       "      <td>6.578950</td>\n",
       "    </tr>\n",
       "  </tbody>\n",
       "</table>\n",
       "<p>840 rows × 3 columns</p>\n",
       "</div>"
      ],
      "text/plain": [
       "    phase  variable      value\n",
       "0      ED  hd_AC_L1   5.798117\n",
       "1      ED  hd_AC_L1  14.311169\n",
       "2      ED  hd_AC_L1  10.387981\n",
       "3      ES  hd_AC_L1   5.966213\n",
       "4      ES  hd_AC_L1  25.087737\n",
       "..    ...       ...        ...\n",
       "835    ED     hd_CE  10.340465\n",
       "836    ED     hd_CE  22.397821\n",
       "837    ES     hd_CE   3.721616\n",
       "838    ES     hd_CE  10.000000\n",
       "839    ES     hd_CE   6.578950\n",
       "\n",
       "[840 rows x 3 columns]"
      ]
     },
     "execution_count": 38,
     "metadata": {},
     "output_type": "execute_result"
    }
   ],
   "source": [
    "pd.melt(df_hd, id_vars='phase')"
   ]
  },
  {
   "cell_type": "code",
   "execution_count": 40,
   "metadata": {},
   "outputs": [
    {
     "data": {
      "text/plain": [
       "Text(0, 0.5, 'Hausdorff Distance Score')"
      ]
     },
     "execution_count": 40,
     "metadata": {},
     "output_type": "execute_result"
    },
    {
     "data": {
      "image/png": "[encoded data removed]",
      "text/plain": [
       "<Figure size 1152x648 with 1 Axes>"
      ]
     },
     "metadata": {},
     "output_type": "display_data"
    }
   ],
   "source": [
    "plt.figure(figsize=(16,9))\n",
    "sns.boxplot(x=\"variable\", y=\"value\",hue=\"phase\", data=pd.melt(df_hd, id_vars='phase'))\n",
    "plt.xlabel(\"loss function\")\n",
    "plt.ylabel(\"Hausdorff Distance Score\")"
   ]
  },
  {
   "cell_type": "code",
   "execution_count": null,
   "metadata": {},
   "outputs": [],
   "source": []
  },
  {
   "cell_type": "code",
   "execution_count": 9,
   "metadata": {},
   "outputs": [
    {
     "data": {
      "text/plain": [
       "Text(0, 0.5, 'ASSD Score')"
      ]
     },
     "execution_count": 9,
     "metadata": {},
     "output_type": "execute_result"
    },
    {
     "data": {
      "image/png": "[encoded data removed]",
      "text/plain": [
       "<Figure size 1152x648 with 1 Axes>"
      ]
     },
     "metadata": {},
     "output_type": "display_data"
    }
   ],
   "source": [
    "df_assd = df.loc[:, ['assd_AC_L1','assd_AC_L5','assd_AC_L10','assd_DICE','assd_DOF','assd_WCE','assd_CE']]\n",
    "\n",
    "plt.figure(figsize=(16,9))\n",
    "sns.boxplot(x=\"variable\", y=\"value\", data=pd.melt(df_assd))\n",
    "plt.xlabel(\"loss function\")\n",
    "plt.ylabel(\"ASSD Score\")"
   ]
  },
  {
   "cell_type": "code",
   "execution_count": 10,
   "metadata": {},
   "outputs": [
    {
     "data": {
      "text/plain": [
       "Text(0, 0.5, 'volume')"
      ]
     },
     "execution_count": 10,
     "metadata": {},
     "output_type": "execute_result"
    },
    {
     "data": {
      "image/png": "[encoded data removed]",
      "text/plain": [
       "<Figure size 1152x648 with 1 Axes>"
      ]
     },
     "metadata": {},
     "output_type": "display_data"
    }
   ],
   "source": [
    "df_vol = df.loc[:, ['vol_AC_L1','vol_AC_L5','vol_AC_L10','vol_DICE','vol_DOF','vol_WCE','vol_CE']]\n",
    "\n",
    "plt.figure(figsize=(16,9))\n",
    "sns.boxplot(x=\"variable\", y=\"value\", data=pd.melt(df_vol))\n",
    "plt.xlabel(\"loss function\")\n",
    "plt.ylabel(\"volume\")"
   ]
  },
  {
   "cell_type": "code",
   "execution_count": 11,
   "metadata": {},
   "outputs": [
    {
     "ename": "NameError",
     "evalue": "name 'ticks' is not defined",
     "output_type": "error",
     "traceback": [
      "\u001b[1;31m---------------------------------------------------------------------------\u001b[0m",
      "\u001b[1;31mNameError\u001b[0m                                 Traceback (most recent call last)",
      "\u001b[1;32m<ipython-input-11-671d6ce4a986>\u001b[0m in \u001b[0;36m<module>\u001b[1;34m\u001b[0m\n\u001b[0;32m      3\u001b[0m \u001b[0mplt\u001b[0m\u001b[1;33m.\u001b[0m\u001b[0mfigure\u001b[0m\u001b[1;33m(\u001b[0m\u001b[0mfigsize\u001b[0m\u001b[1;33m=\u001b[0m\u001b[1;33m(\u001b[0m\u001b[1;36m16\u001b[0m\u001b[1;33m,\u001b[0m\u001b[1;36m9\u001b[0m\u001b[1;33m)\u001b[0m\u001b[1;33m)\u001b[0m\u001b[1;33m\u001b[0m\u001b[1;33m\u001b[0m\u001b[0m\n\u001b[0;32m      4\u001b[0m \u001b[0msns\u001b[0m\u001b[1;33m.\u001b[0m\u001b[0mboxplot\u001b[0m\u001b[1;33m(\u001b[0m\u001b[0mx\u001b[0m\u001b[1;33m=\u001b[0m\u001b[1;34m\"variable\"\u001b[0m\u001b[1;33m,\u001b[0m \u001b[0my\u001b[0m\u001b[1;33m=\u001b[0m\u001b[1;34m\"value\"\u001b[0m\u001b[1;33m,\u001b[0m \u001b[0mdata\u001b[0m\u001b[1;33m=\u001b[0m\u001b[0mpd\u001b[0m\u001b[1;33m.\u001b[0m\u001b[0mmelt\u001b[0m\u001b[1;33m(\u001b[0m\u001b[0mdf_vol_err\u001b[0m\u001b[1;33m)\u001b[0m\u001b[1;33m)\u001b[0m\u001b[1;33m\u001b[0m\u001b[1;33m\u001b[0m\u001b[0m\n\u001b[1;32m----> 5\u001b[1;33m \u001b[0mplt\u001b[0m\u001b[1;33m.\u001b[0m\u001b[0mxticks\u001b[0m\u001b[1;33m(\u001b[0m\u001b[0mticks\u001b[0m\u001b[1;33m)\u001b[0m\u001b[1;33m\u001b[0m\u001b[1;33m\u001b[0m\u001b[0m\n\u001b[0m\u001b[0;32m      6\u001b[0m \u001b[0mplt\u001b[0m\u001b[1;33m.\u001b[0m\u001b[0mxlabel\u001b[0m\u001b[1;33m(\u001b[0m\u001b[1;34m\"loss function\"\u001b[0m\u001b[1;33m)\u001b[0m\u001b[1;33m\u001b[0m\u001b[1;33m\u001b[0m\u001b[0m\n\u001b[0;32m      7\u001b[0m \u001b[0mplt\u001b[0m\u001b[1;33m.\u001b[0m\u001b[0mylabel\u001b[0m\u001b[1;33m(\u001b[0m\u001b[1;34m\"volume\"\u001b[0m\u001b[1;33m)\u001b[0m\u001b[1;33m\u001b[0m\u001b[1;33m\u001b[0m\u001b[0m\n",
      "\u001b[1;31mNameError\u001b[0m: name 'ticks' is not defined"
     ]
    },
    {
     "data": {
      "image/png": "[encoded data removed]",
      "text/plain": [
       "<Figure size 1152x648 with 1 Axes>"
      ]
     },
     "metadata": {},
     "output_type": "display_data"
    }
   ],
   "source": [
    "df_vol_err = df.loc[:, ['vol_err_AC_L1','vol_err_AC_L5','vol_err_AC_L10','vol_err_DICE','vol_err_DOF','vol_err_WCE','vol_err_CE']]\n",
    "\n",
    "plt.figure(figsize=(16,9))\n",
    "sns.boxplot(x=\"variable\", y=\"value\", data=pd.melt(df_vol_err))\n",
    "# plt.xticks(ticks)\n",
    "plt.xlabel(\"loss function\")\n",
    "plt.ylabel(\"volume\")"
   ]
  },
  {
   "cell_type": "code",
   "execution_count": 14,
   "metadata": {},
   "outputs": [
    {
     "ename": "ValueError",
     "evalue": "Could not interpret input 'dice'",
     "output_type": "error",
     "traceback": [
      "\u001b[1;31m---------------------------------------------------------------------------\u001b[0m",
      "\u001b[1;31mValueError\u001b[0m                                Traceback (most recent call last)",
      "\u001b[1;32m<ipython-input-14-d5fb661b36f9>\u001b[0m in \u001b[0;36m<module>\u001b[1;34m\u001b[0m\n\u001b[0;32m      2\u001b[0m \u001b[0mfig\u001b[0m\u001b[1;33m.\u001b[0m\u001b[0mset_figheight\u001b[0m\u001b[1;33m(\u001b[0m\u001b[1;36m14\u001b[0m\u001b[1;33m)\u001b[0m\u001b[1;33m\u001b[0m\u001b[1;33m\u001b[0m\u001b[0m\n\u001b[0;32m      3\u001b[0m \u001b[0mfig\u001b[0m\u001b[1;33m.\u001b[0m\u001b[0mset_figwidth\u001b[0m\u001b[1;33m(\u001b[0m\u001b[1;36m7\u001b[0m\u001b[1;33m)\u001b[0m\u001b[1;33m\u001b[0m\u001b[1;33m\u001b[0m\u001b[0m\n\u001b[1;32m----> 4\u001b[1;33m \u001b[0msns\u001b[0m\u001b[1;33m.\u001b[0m\u001b[0mboxplot\u001b[0m\u001b[1;33m(\u001b[0m\u001b[0mx\u001b[0m\u001b[1;33m=\u001b[0m\u001b[1;34m'struc'\u001b[0m\u001b[1;33m,\u001b[0m \u001b[0my\u001b[0m\u001b[1;33m=\u001b[0m\u001b[1;34m'dice'\u001b[0m\u001b[1;33m,\u001b[0m \u001b[0mhue\u001b[0m\u001b[1;33m=\u001b[0m\u001b[1;34m'phase'\u001b[0m\u001b[1;33m,\u001b[0m \u001b[0mdata\u001b[0m\u001b[1;33m=\u001b[0m\u001b[0mdf\u001b[0m\u001b[1;33m,\u001b[0m \u001b[0mpalette\u001b[0m\u001b[1;33m=\u001b[0m\u001b[1;34m\"PRGn\"\u001b[0m\u001b[1;33m,\u001b[0m \u001b[0max\u001b[0m\u001b[1;33m=\u001b[0m\u001b[0maxes\u001b[0m\u001b[1;33m[\u001b[0m\u001b[1;36m0\u001b[0m\u001b[1;33m]\u001b[0m\u001b[1;33m)\u001b[0m\u001b[1;33m\u001b[0m\u001b[1;33m\u001b[0m\u001b[0m\n\u001b[0m\u001b[0;32m      5\u001b[0m \u001b[0msns\u001b[0m\u001b[1;33m.\u001b[0m\u001b[0mboxplot\u001b[0m\u001b[1;33m(\u001b[0m\u001b[0mx\u001b[0m\u001b[1;33m=\u001b[0m\u001b[1;34m'struc'\u001b[0m\u001b[1;33m,\u001b[0m \u001b[0my\u001b[0m\u001b[1;33m=\u001b[0m\u001b[1;34m'hd'\u001b[0m\u001b[1;33m,\u001b[0m \u001b[0mhue\u001b[0m\u001b[1;33m=\u001b[0m\u001b[1;34m'phase'\u001b[0m\u001b[1;33m,\u001b[0m \u001b[0mdata\u001b[0m\u001b[1;33m=\u001b[0m\u001b[0mdf\u001b[0m\u001b[1;33m,\u001b[0m \u001b[0mpalette\u001b[0m\u001b[1;33m=\u001b[0m\u001b[1;34m\"PRGn\"\u001b[0m\u001b[1;33m,\u001b[0m \u001b[0max\u001b[0m\u001b[1;33m=\u001b[0m\u001b[0maxes\u001b[0m\u001b[1;33m[\u001b[0m\u001b[1;36m1\u001b[0m\u001b[1;33m]\u001b[0m\u001b[1;33m)\u001b[0m\u001b[1;33m\u001b[0m\u001b[1;33m\u001b[0m\u001b[0m\n\u001b[0;32m      6\u001b[0m \u001b[0msns\u001b[0m\u001b[1;33m.\u001b[0m\u001b[0mboxplot\u001b[0m\u001b[1;33m(\u001b[0m\u001b[0mx\u001b[0m\u001b[1;33m=\u001b[0m\u001b[1;34m'struc'\u001b[0m\u001b[1;33m,\u001b[0m \u001b[0my\u001b[0m\u001b[1;33m=\u001b[0m\u001b[1;34m'assd'\u001b[0m\u001b[1;33m,\u001b[0m \u001b[0mhue\u001b[0m\u001b[1;33m=\u001b[0m\u001b[1;34m'phase'\u001b[0m\u001b[1;33m,\u001b[0m \u001b[0mdata\u001b[0m\u001b[1;33m=\u001b[0m\u001b[0mdf\u001b[0m\u001b[1;33m,\u001b[0m \u001b[0mpalette\u001b[0m\u001b[1;33m=\u001b[0m\u001b[1;34m\"PRGn\"\u001b[0m\u001b[1;33m,\u001b[0m \u001b[0max\u001b[0m\u001b[1;33m=\u001b[0m\u001b[0maxes\u001b[0m\u001b[1;33m[\u001b[0m\u001b[1;36m2\u001b[0m\u001b[1;33m]\u001b[0m\u001b[1;33m)\u001b[0m\u001b[1;33m\u001b[0m\u001b[1;33m\u001b[0m\u001b[0m\n",
      "\u001b[1;32m~\\Anaconda3\\envs\\tgpu112\\lib\\site-packages\\seaborn\\categorical.py\u001b[0m in \u001b[0;36mboxplot\u001b[1;34m(x, y, hue, data, order, hue_order, orient, color, palette, saturation, width, dodge, fliersize, linewidth, whis, ax, **kwargs)\u001b[0m\n\u001b[0;32m   2233\u001b[0m     plotter = _BoxPlotter(x, y, hue, data, order, hue_order,\n\u001b[0;32m   2234\u001b[0m                           \u001b[0morient\u001b[0m\u001b[1;33m,\u001b[0m \u001b[0mcolor\u001b[0m\u001b[1;33m,\u001b[0m \u001b[0mpalette\u001b[0m\u001b[1;33m,\u001b[0m \u001b[0msaturation\u001b[0m\u001b[1;33m,\u001b[0m\u001b[1;33m\u001b[0m\u001b[1;33m\u001b[0m\u001b[0m\n\u001b[1;32m-> 2235\u001b[1;33m                           width, dodge, fliersize, linewidth)\n\u001b[0m\u001b[0;32m   2236\u001b[0m \u001b[1;33m\u001b[0m\u001b[0m\n\u001b[0;32m   2237\u001b[0m     \u001b[1;32mif\u001b[0m \u001b[0max\u001b[0m \u001b[1;32mis\u001b[0m \u001b[1;32mNone\u001b[0m\u001b[1;33m:\u001b[0m\u001b[1;33m\u001b[0m\u001b[1;33m\u001b[0m\u001b[0m\n",
      "\u001b[1;32m~\\Anaconda3\\envs\\tgpu112\\lib\\site-packages\\seaborn\\categorical.py\u001b[0m in \u001b[0;36m__init__\u001b[1;34m(self, x, y, hue, data, order, hue_order, orient, color, palette, saturation, width, dodge, fliersize, linewidth)\u001b[0m\n\u001b[0;32m    434\u001b[0m                  width, dodge, fliersize, linewidth):\n\u001b[0;32m    435\u001b[0m \u001b[1;33m\u001b[0m\u001b[0m\n\u001b[1;32m--> 436\u001b[1;33m         \u001b[0mself\u001b[0m\u001b[1;33m.\u001b[0m\u001b[0mestablish_variables\u001b[0m\u001b[1;33m(\u001b[0m\u001b[0mx\u001b[0m\u001b[1;33m,\u001b[0m \u001b[0my\u001b[0m\u001b[1;33m,\u001b[0m \u001b[0mhue\u001b[0m\u001b[1;33m,\u001b[0m \u001b[0mdata\u001b[0m\u001b[1;33m,\u001b[0m \u001b[0morient\u001b[0m\u001b[1;33m,\u001b[0m \u001b[0morder\u001b[0m\u001b[1;33m,\u001b[0m \u001b[0mhue_order\u001b[0m\u001b[1;33m)\u001b[0m\u001b[1;33m\u001b[0m\u001b[1;33m\u001b[0m\u001b[0m\n\u001b[0m\u001b[0;32m    437\u001b[0m         \u001b[0mself\u001b[0m\u001b[1;33m.\u001b[0m\u001b[0mestablish_colors\u001b[0m\u001b[1;33m(\u001b[0m\u001b[0mcolor\u001b[0m\u001b[1;33m,\u001b[0m \u001b[0mpalette\u001b[0m\u001b[1;33m,\u001b[0m \u001b[0msaturation\u001b[0m\u001b[1;33m)\u001b[0m\u001b[1;33m\u001b[0m\u001b[1;33m\u001b[0m\u001b[0m\n\u001b[0;32m    438\u001b[0m \u001b[1;33m\u001b[0m\u001b[0m\n",
      "\u001b[1;32m~\\Anaconda3\\envs\\tgpu112\\lib\\site-packages\\seaborn\\categorical.py\u001b[0m in \u001b[0;36mestablish_variables\u001b[1;34m(self, x, y, hue, data, orient, order, hue_order, units)\u001b[0m\n\u001b[0;32m    150\u001b[0m                 \u001b[1;32mif\u001b[0m \u001b[0misinstance\u001b[0m\u001b[1;33m(\u001b[0m\u001b[0mvar\u001b[0m\u001b[1;33m,\u001b[0m \u001b[0mstr\u001b[0m\u001b[1;33m)\u001b[0m\u001b[1;33m:\u001b[0m\u001b[1;33m\u001b[0m\u001b[1;33m\u001b[0m\u001b[0m\n\u001b[0;32m    151\u001b[0m                     \u001b[0merr\u001b[0m \u001b[1;33m=\u001b[0m \u001b[1;34m\"Could not interpret input '{}'\"\u001b[0m\u001b[1;33m.\u001b[0m\u001b[0mformat\u001b[0m\u001b[1;33m(\u001b[0m\u001b[0mvar\u001b[0m\u001b[1;33m)\u001b[0m\u001b[1;33m\u001b[0m\u001b[1;33m\u001b[0m\u001b[0m\n\u001b[1;32m--> 152\u001b[1;33m                     \u001b[1;32mraise\u001b[0m \u001b[0mValueError\u001b[0m\u001b[1;33m(\u001b[0m\u001b[0merr\u001b[0m\u001b[1;33m)\u001b[0m\u001b[1;33m\u001b[0m\u001b[1;33m\u001b[0m\u001b[0m\n\u001b[0m\u001b[0;32m    153\u001b[0m \u001b[1;33m\u001b[0m\u001b[0m\n\u001b[0;32m    154\u001b[0m             \u001b[1;31m# Figure out the plotting orientation\u001b[0m\u001b[1;33m\u001b[0m\u001b[1;33m\u001b[0m\u001b[1;33m\u001b[0m\u001b[0m\n",
      "\u001b[1;31mValueError\u001b[0m: Could not interpret input 'dice'"
     ]
    },
    {
     "data": {
      "image/png": "[encoded data removed]",
      "text/plain": [
       "<Figure size 504x1008 with 3 Axes>"
      ]
     },
     "metadata": {},
     "output_type": "display_data"
    }
   ],
   "source": [
    "fig, axes = plt.subplots(3, 1)\n",
    "fig.set_figheight(14)\n",
    "fig.set_figwidth(7)\n",
    "sns.boxplot(x='struc', y='dice', hue='phase', data=df, palette=\"PRGn\", ax=axes[0])\n",
    "sns.boxplot(x='struc', y='hd', hue='phase', data=df, palette=\"PRGn\", ax=axes[1])\n",
    "sns.boxplot(x='struc', y='assd', hue='phase', data=df, palette=\"PRGn\", ax=axes[2])"
   ]
  },
  {
   "cell_type": "code",
   "execution_count": null,
   "metadata": {},
   "outputs": [],
   "source": []
  }
 ],
 "metadata": {
  "kernelspec": {
   "display_name": "Python 3",
   "language": "python",
   "name": "python3"
  },
  "language_info": {
   "codemirror_mode": {
    "name": "ipython",
    "version": 3
   },
   "file_extension": ".py",
   "mimetype": "text/x-python",
   "name": "python",
   "nbconvert_exporter": "python",
   "pygments_lexer": "ipython3",
   "version": "3.6.10"
  }
 },
 "nbformat": 4,
 "nbformat_minor": 4
}
