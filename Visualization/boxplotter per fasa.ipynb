{
 "cells": [
  {
   "cell_type": "code",
   "execution_count": 1,
   "metadata": {},
   "outputs": [],
   "source": [
    "import pandas as pd\n",
    "import os\n",
    "import matplotlib.pyplot as plt\n",
    "import seaborn as sns\n",
    "sns.set()"
   ]
  },
  {
   "cell_type": "code",
   "execution_count": 2,
   "metadata": {},
   "outputs": [
    {
     "data": {
      "text/plain": [
       "Index(['dice_AC_L1', 'hd_AC_L1', 'assd_AC_L1', 'vol_AC_L1', 'vol_err_AC_L1',\n",
       "       'dice_AC_L5', 'hd_AC_L5', 'assd_AC_L5', 'vol_AC_L5', 'vol_err_AC_L5',\n",
       "       'dice_AC_L10', 'hd_AC_L10', 'assd_AC_L10', 'vol_AC_L10',\n",
       "       'vol_err_AC_L10', 'dice_DICE', 'hd_DICE', 'assd_DICE', 'vol_DICE',\n",
       "       'vol_err_DICE', 'dice_DOF', 'hd_DOF', 'assd_DOF', 'vol_DOF',\n",
       "       'vol_err_DOF', 'dice_WCE', 'hd_WCE', 'assd_WCE', 'vol_WCE',\n",
       "       'vol_err_WCE', 'dice_CE', 'hd_CE', 'assd_CE', 'vol_CE', 'vol_err_CE',\n",
       "       'phase', 'struc', 'filename'],\n",
       "      dtype='object')"
      ]
     },
     "execution_count": 2,
     "metadata": {},
     "output_type": "execute_result"
    }
   ],
   "source": [
    "df = pd.read_excel('master_data.xlsx')\n",
    "df.columns"
   ]
  },
  {
   "cell_type": "code",
   "execution_count": 10,
   "metadata": {},
   "outputs": [
    {
     "data": {
      "text/html": [
       "<div>\n",
       "<style scoped>\n",
       "    .dataframe tbody tr th:only-of-type {\n",
       "        vertical-align: middle;\n",
       "    }\n",
       "\n",
       "    .dataframe tbody tr th {\n",
       "        vertical-align: top;\n",
       "    }\n",
       "\n",
       "    .dataframe thead th {\n",
       "        text-align: right;\n",
       "    }\n",
       "</style>\n",
       "<table border=\"1\" class=\"dataframe\">\n",
       "  <thead>\n",
       "    <tr style=\"text-align: right;\">\n",
       "      <th></th>\n",
       "      <th>dice_AC_L1</th>\n",
       "      <th>dice_AC_L5</th>\n",
       "      <th>dice_AC_L10</th>\n",
       "      <th>dice_DICE</th>\n",
       "      <th>dice_DOF</th>\n",
       "      <th>dice_WCE</th>\n",
       "      <th>dice_CE</th>\n",
       "      <th>phase</th>\n",
       "    </tr>\n",
       "  </thead>\n",
       "  <tbody>\n",
       "    <tr>\n",
       "      <th>0</th>\n",
       "      <td>0.962101</td>\n",
       "      <td>0.972590</td>\n",
       "      <td>0.971119</td>\n",
       "      <td>0.972879</td>\n",
       "      <td>0.968458</td>\n",
       "      <td>0.972470</td>\n",
       "      <td>0.972051</td>\n",
       "      <td>ED</td>\n",
       "    </tr>\n",
       "    <tr>\n",
       "      <th>1</th>\n",
       "      <td>0.880246</td>\n",
       "      <td>0.918689</td>\n",
       "      <td>0.881196</td>\n",
       "      <td>0.836482</td>\n",
       "      <td>0.874131</td>\n",
       "      <td>0.879982</td>\n",
       "      <td>0.900398</td>\n",
       "      <td>ED</td>\n",
       "    </tr>\n",
       "    <tr>\n",
       "      <th>2</th>\n",
       "      <td>0.858248</td>\n",
       "      <td>0.875432</td>\n",
       "      <td>0.890098</td>\n",
       "      <td>0.863177</td>\n",
       "      <td>0.888856</td>\n",
       "      <td>0.880170</td>\n",
       "      <td>0.873611</td>\n",
       "      <td>ED</td>\n",
       "    </tr>\n",
       "    <tr>\n",
       "      <th>3</th>\n",
       "      <td>0.958629</td>\n",
       "      <td>0.961646</td>\n",
       "      <td>0.965920</td>\n",
       "      <td>0.961684</td>\n",
       "      <td>0.957315</td>\n",
       "      <td>0.963442</td>\n",
       "      <td>0.959424</td>\n",
       "      <td>ES</td>\n",
       "    </tr>\n",
       "    <tr>\n",
       "      <th>4</th>\n",
       "      <td>0.780564</td>\n",
       "      <td>0.780244</td>\n",
       "      <td>0.761928</td>\n",
       "      <td>0.666733</td>\n",
       "      <td>0.700601</td>\n",
       "      <td>0.746151</td>\n",
       "      <td>0.791234</td>\n",
       "      <td>ES</td>\n",
       "    </tr>\n",
       "    <tr>\n",
       "      <th>...</th>\n",
       "      <td>...</td>\n",
       "      <td>...</td>\n",
       "      <td>...</td>\n",
       "      <td>...</td>\n",
       "      <td>...</td>\n",
       "      <td>...</td>\n",
       "      <td>...</td>\n",
       "      <td>...</td>\n",
       "    </tr>\n",
       "    <tr>\n",
       "      <th>115</th>\n",
       "      <td>0.879198</td>\n",
       "      <td>0.886124</td>\n",
       "      <td>0.907017</td>\n",
       "      <td>0.942158</td>\n",
       "      <td>0.928900</td>\n",
       "      <td>0.937901</td>\n",
       "      <td>0.928547</td>\n",
       "      <td>ED</td>\n",
       "    </tr>\n",
       "    <tr>\n",
       "      <th>116</th>\n",
       "      <td>0.882041</td>\n",
       "      <td>0.890713</td>\n",
       "      <td>0.888109</td>\n",
       "      <td>0.889743</td>\n",
       "      <td>0.884327</td>\n",
       "      <td>0.895991</td>\n",
       "      <td>0.896763</td>\n",
       "      <td>ED</td>\n",
       "    </tr>\n",
       "    <tr>\n",
       "      <th>117</th>\n",
       "      <td>0.915100</td>\n",
       "      <td>0.925236</td>\n",
       "      <td>0.940734</td>\n",
       "      <td>0.930072</td>\n",
       "      <td>0.913600</td>\n",
       "      <td>0.944557</td>\n",
       "      <td>0.934069</td>\n",
       "      <td>ES</td>\n",
       "    </tr>\n",
       "    <tr>\n",
       "      <th>118</th>\n",
       "      <td>0.759361</td>\n",
       "      <td>0.794652</td>\n",
       "      <td>0.825231</td>\n",
       "      <td>0.856663</td>\n",
       "      <td>0.822691</td>\n",
       "      <td>0.857034</td>\n",
       "      <td>0.867354</td>\n",
       "      <td>ES</td>\n",
       "    </tr>\n",
       "    <tr>\n",
       "      <th>119</th>\n",
       "      <td>0.864252</td>\n",
       "      <td>0.900000</td>\n",
       "      <td>0.891171</td>\n",
       "      <td>0.876072</td>\n",
       "      <td>0.898512</td>\n",
       "      <td>0.922432</td>\n",
       "      <td>0.884628</td>\n",
       "      <td>ES</td>\n",
       "    </tr>\n",
       "  </tbody>\n",
       "</table>\n",
       "<p>120 rows × 8 columns</p>\n",
       "</div>"
      ],
      "text/plain": [
       "     dice_AC_L1  dice_AC_L5  dice_AC_L10  dice_DICE  dice_DOF  dice_WCE  \\\n",
       "0      0.962101    0.972590     0.971119   0.972879  0.968458  0.972470   \n",
       "1      0.880246    0.918689     0.881196   0.836482  0.874131  0.879982   \n",
       "2      0.858248    0.875432     0.890098   0.863177  0.888856  0.880170   \n",
       "3      0.958629    0.961646     0.965920   0.961684  0.957315  0.963442   \n",
       "4      0.780564    0.780244     0.761928   0.666733  0.700601  0.746151   \n",
       "..          ...         ...          ...        ...       ...       ...   \n",
       "115    0.879198    0.886124     0.907017   0.942158  0.928900  0.937901   \n",
       "116    0.882041    0.890713     0.888109   0.889743  0.884327  0.895991   \n",
       "117    0.915100    0.925236     0.940734   0.930072  0.913600  0.944557   \n",
       "118    0.759361    0.794652     0.825231   0.856663  0.822691  0.857034   \n",
       "119    0.864252    0.900000     0.891171   0.876072  0.898512  0.922432   \n",
       "\n",
       "      dice_CE phase  \n",
       "0    0.972051    ED  \n",
       "1    0.900398    ED  \n",
       "2    0.873611    ED  \n",
       "3    0.959424    ES  \n",
       "4    0.791234    ES  \n",
       "..        ...   ...  \n",
       "115  0.928547    ED  \n",
       "116  0.896763    ED  \n",
       "117  0.934069    ES  \n",
       "118  0.867354    ES  \n",
       "119  0.884628    ES  \n",
       "\n",
       "[120 rows x 8 columns]"
      ]
     },
     "execution_count": 10,
     "metadata": {},
     "output_type": "execute_result"
    }
   ],
   "source": [
    "df_dice = df.loc[:, ['dice_AC_L1','dice_AC_L5','dice_AC_L10','dice_DICE','dice_DOF','dice_WCE','dice_CE',\"phase\"]]\n",
    "# pd.melt(df_dice)\n",
    "df_dice"
   ]
  },
  {
   "cell_type": "code",
   "execution_count": 32,
   "metadata": {},
   "outputs": [
    {
     "data": {
      "text/plain": [
       "Text(0.5, 1.0, 'Pengukuran Dice secara 3D dibagi per fasa')"
      ]
     },
     "execution_count": 32,
     "metadata": {},
     "output_type": "execute_result"
    },
    {
     "data": {
      "image/png": "[encoded data removed]",
      "text/plain": [
       "<Figure size 1152x648 with 1 Axes>"
      ]
     },
     "metadata": {},
     "output_type": "display_data"
    }
   ],
   "source": [
    "df_dice = df.loc[:, ['dice_AC_L1','dice_AC_L5','dice_AC_L10','dice_DICE','dice_DOF','dice_WCE','dice_CE',\"phase\"]]\n",
    "\n",
    "fontsize=26\n",
    "plt.figure(figsize=(16,9))\n",
    "sns.boxplot(x=\"variable\", y=\"value\",hue=\"phase\", data=pd.melt(df_dice, id_vars='phase'))\n",
    "plt.xlabel(\"Loss Function\", fontsize=fontsize)\n",
    "plt.xticks(fontsize=15)\n",
    "plt.legend(fontsize=fontsize)\n",
    "plt.ylabel(\"Dice Score\", fontsize=fontsize)\n",
    "plt.title(\"Pengukuran Dice secara 3D dibagi per fasa\", fontsize=fontsize)"
   ]
  },
  {
   "cell_type": "code",
   "execution_count": null,
   "metadata": {},
   "outputs": [],
   "source": []
  }
 ],
 "metadata": {
  "kernelspec": {
   "display_name": "Python 3",
   "language": "python",
   "name": "python3"
  },
  "language_info": {
   "codemirror_mode": {
    "name": "ipython",
    "version": 3
   },
   "file_extension": ".py",
   "mimetype": "text/x-python",
   "name": "python",
   "nbconvert_exporter": "python",
   "pygments_lexer": "ipython3",
   "version": "3.6.10"
  }
 },
 "nbformat": 4,
 "nbformat_minor": 4
}
