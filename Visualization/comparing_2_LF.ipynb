{
 "cells": [
  {
   "cell_type": "code",
   "execution_count": 1,
   "metadata": {},
   "outputs": [
    {
     "data": {
      "text/plain": [
       "['.ipynb_checkpoints',\n",
       " '27032020_2d_bn_wxent',\n",
       " 'boxplotter.ipynb',\n",
       " 'comparing_2_LF.ipynb',\n",
       " 'corr_value.ipynb',\n",
       " 'dgx_bs_16',\n",
       " 'local_bs_4',\n",
       " 'master_data.xlsx',\n",
       " 'max_delta.ipynb',\n",
       " 'revisualisasi_grafik_training.ipynb',\n",
       " 'slice_dice.ipynb',\n",
       " '~$master_data.xlsx']"
      ]
     },
     "execution_count": 1,
     "metadata": {},
     "output_type": "execute_result"
    }
   ],
   "source": [
    "import os\n",
    "import nibabel as ni\n",
    "os.listdir()"
   ]
  },
  {
   "cell_type": "code",
   "execution_count": 7,
   "metadata": {},
   "outputs": [],
   "source": [
    "AC_path = os.path.join(os.getcwd(), 'local_bs_4\\\\AC_NEWCODE')\n",
    "ACL10_path = os.path.join(AC_path, 'L10')\n",
    "ACL5_path = os.path.join(AC_path, 'L5')\n",
    "ACL1_path = os.path.join(AC_path, 'L1')\n",
    "\n",
    "folder_pred = os.path.join(os.getcwd(), 'prediction')"
   ]
  },
  {
   "cell_type": "code",
   "execution_count": 6,
   "metadata": {},
   "outputs": [
    {
     "data": {
      "text/plain": [
       "'D:\\\\hai\\\\000-TAKU\\\\UNET\\\\baumgach\\\\hasil training\\\\local_bs_4\\\\AC_NEWCODE'"
      ]
     },
     "execution_count": 6,
     "metadata": {},
     "output_type": "execute_result"
    }
   ],
   "source": [
    "AC_path"
   ]
  },
  {
   "cell_type": "code",
   "execution_count": null,
   "metadata": {},
   "outputs": [],
   "source": []
  }
 ],
 "metadata": {
  "kernelspec": {
   "display_name": "Python 3",
   "language": "python",
   "name": "python3"
  },
  "language_info": {
   "codemirror_mode": {
    "name": "ipython",
    "version": 3
   },
   "file_extension": ".py",
   "mimetype": "text/x-python",
   "name": "python",
   "nbconvert_exporter": "python",
   "pygments_lexer": "ipython3",
   "version": "3.6.10"
  }
 },
 "nbformat": 4,
 "nbformat_minor": 4
}
